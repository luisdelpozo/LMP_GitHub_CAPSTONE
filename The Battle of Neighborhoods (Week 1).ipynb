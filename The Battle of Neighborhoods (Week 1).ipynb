{
    "cells": [
        {
            "cell_type": "markdown",
            "metadata": {
                "collapsed": true
            },
            "source": "# CAPSTONE PROJECT - BATTLE OF NEIGHBORHOODS (WEEK 1)\n\n## 1. INTRODUCTION \u2013 BUSINESS PROBLEM\n\nThe objective of this project is to help investors to find the best area for opening a restaurant in Madrid, Spain. \n\nMadrid is the largest Spanish city with more than 3 million inhabitants in a metropolitan area of approximately 600 square kilometers, and it is indeed a very good place to open a restaurant, thanks to its busy business centers, and lively streets either by day or night.\n\nMadrid is administratively divided in 21 districts (\u201cdistritos\u201d in Spanish), and 129 wards (\u201cbarrios\u201d in Spanish).\n\nThanks to the data from several Madrid City Hall webpages and Foursquare, and an appropriate data science approach, at the end of the project stakeholders will have the proper information to select the best wards and the best kind of restaurant to invest in.\n\n\n## 2. DATA\n\nBased on the objective of the business problem, the following data will be retrieved:\n\n   \u2022 Information of the administrative distribution in district and wards. This information will be obtained from the Madrid City Hall official website\n\n   \u2022 Information of all of the district such as population, size (area), average income, number of crimes, or number of hotel beds\n\n   \u2022 Information of the coordinates of every ward by geocoding\n\n   \u2022 Information about the type and location of restaurants from Foursquare API\n"
        },
        {
            "cell_type": "code",
            "execution_count": null,
            "metadata": {},
            "outputs": [],
            "source": ""
        }
    ],
    "metadata": {
        "kernelspec": {
            "display_name": "Python 3.6",
            "language": "python",
            "name": "python3"
        },
        "language_info": {
            "codemirror_mode": {
                "name": "ipython",
                "version": 3
            },
            "file_extension": ".py",
            "mimetype": "text/x-python",
            "name": "python",
            "nbconvert_exporter": "python",
            "pygments_lexer": "ipython3",
            "version": "3.6.8"
        }
    },
    "nbformat": 4,
    "nbformat_minor": 1
}